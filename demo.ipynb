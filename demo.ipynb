{
 "cells": [
  {
   "cell_type": "code",
   "execution_count": null,
   "metadata": {},
   "outputs": [],
   "source": [
    "from library_of_babel import LoB\n",
    "\n",
    "lob=LoB()\n",
    "\n",
    "\n",
    "keyword=\"I have had a wonderful day with my friend apple and orange .............\"\n",
    "keyword=keyword.lower()\n",
    "address=lob.search(keyword)\n",
    "print address"
   ]
  },
  {
   "cell_type": "code",
   "execution_count": null,
   "metadata": {
    "scrolled": true
   },
   "outputs": [],
   "source": [
    "page= lob.getPage(address)\n",
    "print page"
   ]
  },
  {
   "cell_type": "code",
   "execution_count": null,
   "metadata": {},
   "outputs": [],
   "source": [
    "index=page.find(keyword)\n",
    "print page[index:index+len(keyword)]"
   ]
  },
  {
   "cell_type": "code",
   "execution_count": null,
   "metadata": {},
   "outputs": [],
   "source": [
    "\n",
    "def checkLetter(s):\n",
    "    if s in \"abcdefghijklmnopqrstuvwxyz012345679,. \":\n",
    "        return True\n",
    "    else:\n",
    "        return False\n",
    "\n",
    "f=open(\"grim.txt\",\"r+\")\n",
    "lines=f.readlines()\n",
    "contentList=[]\n",
    "for line in lines:\n",
    "    contentList.append(line.lower().rstrip())\n",
    "for content in contentList:\n",
    "    for letter in content:\n",
    "        print letter\n",
    "        print checkLetter(letter)\n",
    "    \n",
    "    \n",
    "    \n"
   ]
  },
  {
   "cell_type": "code",
   "execution_count": null,
   "metadata": {},
   "outputs": [],
   "source": []
  },
  {
   "cell_type": "code",
   "execution_count": null,
   "metadata": {},
   "outputs": [],
   "source": []
  },
  {
   "cell_type": "code",
   "execution_count": null,
   "metadata": {},
   "outputs": [],
   "source": []
  }
 ],
 "metadata": {
  "kernelspec": {
   "display_name": "Python 2",
   "language": "python",
   "name": "python2"
  },
  "language_info": {
   "codemirror_mode": {
    "name": "ipython",
    "version": 2
   },
   "file_extension": ".py",
   "mimetype": "text/x-python",
   "name": "python",
   "nbconvert_exporter": "python",
   "pygments_lexer": "ipython2",
   "version": "2.7.15+"
  }
 },
 "nbformat": 4,
 "nbformat_minor": 2
}
